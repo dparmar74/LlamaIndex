{
 "cells": [
  {
   "cell_type": "markdown",
   "id": "420af8f2-c3a7-4f97-8cda-127e5c100f4f",
   "metadata": {},
   "source": [
    "### Single Document Agent\n",
    "\n",
    "In this exercise, we will down load the latest AAPL call earnings transcript and then we will setup an agent to ask relevant questions - like \n",
    "<li> what are potential macro challenges </li>\n",
    "<li> which product segment saw a big jump in revenue </li>\n",
    "<li> which product segment didn't perform as expected </li>\n",
    "<li>Identify any mentions of cost-cutting or operational efficiency measures.</li>\n",
    "<li>Conduct a sentiment analysis of the CEO's remarks during the most recent earnings call.</li>\n",
    "<li>Identify any discussions about entering new markets or new products </li>\n",
    "<li>any changes in the executive team announced </li>\n",
    "<li>any changes in corporate strategy </li>\n",
    "<li>any mentions of debt restructuring or financing activitie</li>\n",
    "<li>any mentions of special dividends or one-time payouts</li>"
   ]
  },
  {
   "cell_type": "code",
   "execution_count": 2,
   "id": "d13a3e2f-73f3-40bb-a94a-f1f5d206600e",
   "metadata": {},
   "outputs": [
    {
     "name": "stdout",
     "output_type": "stream",
     "text": [
      "Note: you may need to restart the kernel to use updated packages.\n"
     ]
    }
   ],
   "source": [
    "%pip install -Uq llama-index"
   ]
  },
  {
   "cell_type": "code",
   "execution_count": 21,
   "id": "5e85e62f-b35a-4c33-a7bb-feb10651ae10",
   "metadata": {},
   "outputs": [],
   "source": [
    "from pathlib import Path\n",
    "import requests\n",
    "import os\n",
    "import getpass\n",
    "\n",
    "\n",
    "from llama_index.core import (\n",
    "    VectorStoreIndex,\n",
    "    SimpleDirectoryReader,\n",
    "    StorageContext,\n",
    "    load_index_from_storage\n",
    ")\n",
    "\n",
    "from llama_parse import LlamaParse\n"
   ]
  },
  {
   "cell_type": "markdown",
   "id": "9fd66cdc-eb06-4270-ad99-7216371b1aa7",
   "metadata": {},
   "source": [
    "#### Download APPL earning calls transcript (Q3 2024)\n",
    "\n",
    "I am using RapidAPI.  You would need to sign up for a free account and use RapidAPI  API KEY"
   ]
  },
  {
   "cell_type": "code",
   "execution_count": 15,
   "id": "43fe0ced-0f2a-4eef-be89-47bb3f4517fc",
   "metadata": {},
   "outputs": [],
   "source": [
    "url = \"https://seeking-alpha.p.rapidapi.com/transcripts/v2/get-details\"\n",
    "\n",
    "# https://seekingalpha.com/article/4709458-apple-inc-aapl-q3-2024-earnings-call-transcript\n",
    "querystring = {\"id\":\"4709458\"}\n",
    "\n",
    "headers = {\n",
    "\t\"x-rapidapi-key\": \"653ba3e057msh1e063e0e688815cp155928jsn49c8b4e7c2e9\",\n",
    "\t\"x-rapidapi-host\": \"seeking-alpha.p.rapidapi.com\"\n",
    "}\n",
    "\n",
    "response = requests.get(url, headers=headers, params=querystring).json()\n",
    "call_content = earlings_call[\"data\"][\"attributes\"][\"content\"]\n",
    "ticker= earlings_call[\"included\"][1][\"attributes\"][\"name\"]\n",
    "\n",
    "data_path = Path(\"data\")\n",
    "if not data_path.exists():\n",
    "    Path.mkdir(data_path)\n",
    "\n",
    "with open(data_path / f\"{ticker}.txt\", \"w\") as fp:\n",
    "    fp.write(call_content)"
   ]
  },
  {
   "cell_type": "code",
   "execution_count": 23,
   "id": "72b475ad-5a6d-4a28-a184-a92c6c170b4b",
   "metadata": {},
   "outputs": [],
   "source": [
    "# LlamaParse is async-first, so we need to run this line of code if you are working on a notebook\n",
    "import nest_asyncio\n",
    "\n",
    "nest_asyncio.apply()"
   ]
  },
  {
   "cell_type": "code",
   "execution_count": 19,
   "id": "315fc583-19fc-4374-af6b-2eff418d67ff",
   "metadata": {},
   "outputs": [
    {
     "name": "stdin",
     "output_type": "stream",
     "text": [
      "OpenAI API Key:  ········\n"
     ]
    }
   ],
   "source": [
    "os.environ['OPENAI_API_KEY'] = getpass.getpass(\"OpenAI API Key: \")"
   ]
  },
  {
   "cell_type": "code",
   "execution_count": 20,
   "id": "cce301a0-420f-4e5f-9c7b-d70ed8078cd8",
   "metadata": {},
   "outputs": [
    {
     "name": "stdin",
     "output_type": "stream",
     "text": [
      " ········\n"
     ]
    }
   ],
   "source": [
    "os.environ[\"LLAMA_CLOUD_API_KEY\"] = getpass.getpass(\"Llama Cloud API Key: \")"
   ]
  },
  {
   "cell_type": "code",
   "execution_count": 25,
   "id": "599c4139-4940-4d5c-b496-efb97b27670a",
   "metadata": {},
   "outputs": [
    {
     "name": "stdout",
     "output_type": "stream",
     "text": [
      "Started parsing the file under job_id b55109c0-512d-4f09-8dfa-e1e4ae1475f7\n"
     ]
    }
   ],
   "source": [
    "# Load document\n",
    "documents = LlamaParse(result_type=\"text\").load_data(\"./data/AAPL.txt\")\n",
    "index = VectorStoreIndex.from_documents(documents)\n",
    "query_engine = index.as_query_engine()\n"
   ]
  },
  {
   "cell_type": "code",
   "execution_count": 26,
   "id": "c954285d-5814-486a-97b0-b0c11a8c914d",
   "metadata": {},
   "outputs": [
    {
     "name": "stdout",
     "output_type": "stream",
     "text": [
      "There have been discussions about potential changes in the corporate strategy, particularly in terms of addressing foreign exchange headwinds and focusing on growing Services double digits. Additionally, there is a mention of integrating with ChatGPT for world knowledge, indicating a potential shift towards leveraging AI technologies for knowledge-related initiatives.\n"
     ]
    }
   ],
   "source": [
    "# ask question\n",
    "response = query_engine.query(\"any changes in corporate strategy\")\n",
    "print(response)\n"
   ]
  },
  {
   "cell_type": "code",
   "execution_count": 27,
   "id": "fec10c15-9df2-4aee-8c0e-bfcfb900579c",
   "metadata": {},
   "outputs": [
    {
     "name": "stdout",
     "output_type": "stream",
     "text": [
      "The potential macro challenges mentioned include the competitive environment in China being the most competitive in the world, macroeconomic factors affecting the market, and the impact of the state of commodity markets on the business.\n"
     ]
    }
   ],
   "source": [
    "# ask question\n",
    "response = query_engine.query(\"what are potential macro challenges mentioned\")\n",
    "print(response)"
   ]
  },
  {
   "cell_type": "code",
   "execution_count": 28,
   "id": "50b38009-dd9e-418f-a943-f7df4deeb550",
   "metadata": {},
   "outputs": [
    {
     "name": "stdout",
     "output_type": "stream",
     "text": [
      "The Services segment saw a big jump in revenue, while the Mac segment did not perform as expected.\n"
     ]
    }
   ],
   "source": [
    "# ask question\n",
    "response = query_engine.query(\"which product segment saw a big jump in revenue and which product segment didn't perform as expected\")\n",
    "print(response)"
   ]
  },
  {
   "cell_type": "code",
   "execution_count": null,
   "id": "6f7c3672-3791-417d-bcab-4a79522c5261",
   "metadata": {},
   "outputs": [],
   "source": []
  }
 ],
 "metadata": {
  "kernelspec": {
   "display_name": "Python 3 (ipykernel)",
   "language": "python",
   "name": "python3"
  },
  "language_info": {
   "codemirror_mode": {
    "name": "ipython",
    "version": 3
   },
   "file_extension": ".py",
   "mimetype": "text/x-python",
   "name": "python",
   "nbconvert_exporter": "python",
   "pygments_lexer": "ipython3",
   "version": "3.12.7"
  }
 },
 "nbformat": 4,
 "nbformat_minor": 5
}
